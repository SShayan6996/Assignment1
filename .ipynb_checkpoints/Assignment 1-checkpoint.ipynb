{
 "cells": [
  {
   "cell_type": "code",
   "execution_count": 2,
   "id": "5ebcbe0e",
   "metadata": {},
   "outputs": [
    {
     "name": "stdout",
     "output_type": "stream",
     "text": [
      "Twinkle,Twinkle,little Star,\n",
      "        How I wonder what you are!\n",
      "              Up above the world so high,\n",
      "              Like a diamond in the sky.\n",
      "Twinkle,Twinkle,little Star,\n",
      "        How I wonder what you are!\n"
     ]
    }
   ],
   "source": [
    "print(\"Twinkle,Twinkle,little Star,\\n\" + \"        \" + \"How I wonder what you are!\\n\" + \"              \" + \n",
    "      \"Up above the world so high,\\n\" + \"              \" + \"Like a diamond in the sky.\\n\" \n",
    "     + \"Twinkle,Twinkle,little Star,\\n\"  + \"        \" + \"How I wonder what you are!\");"
   ]
  },
  {
   "cell_type": "code",
   "execution_count": 3,
   "id": "7bb7fd11",
   "metadata": {},
   "outputs": [
    {
     "name": "stdout",
     "output_type": "stream",
     "text": [
      "Python version is 3.8.5 \n"
     ]
    }
   ],
   "source": [
    "print(\"Python version is 3.8.5 \");"
   ]
  },
  {
   "cell_type": "code",
   "execution_count": 4,
   "id": "252be1bc",
   "metadata": {},
   "outputs": [
    {
     "name": "stdout",
     "output_type": "stream",
     "text": [
      "Current Date is 31-12-2021 & Time is 9.45 pm\n"
     ]
    }
   ],
   "source": [
    "print(\"Current Date is 31-12-2021 & Time is 9.45 pm\");"
   ]
  },
  {
   "cell_type": "code",
   "execution_count": 14,
   "id": "bb1ff1b5",
   "metadata": {},
   "outputs": [
    {
     "name": "stdout",
     "output_type": "stream",
     "text": [
      "Enter Radius of circle 1.1\n",
      "Area of cirle is 3.487077516911368\n"
     ]
    }
   ],
   "source": [
    "r = float(input(\"Enter Radius of circle \"));\n",
    "A = 3.14 * (r**r);\n",
    "print(\"Area of cirle is \" + str(A));"
   ]
  },
  {
   "cell_type": "code",
   "execution_count": 16,
   "id": "3b6aa8ae",
   "metadata": {},
   "outputs": [
    {
     "name": "stdout",
     "output_type": "stream",
     "text": [
      "Enter your first name Shayan \n",
      "Enter your last name Ahmed\n",
      "Ahmed Shayan \n"
     ]
    }
   ],
   "source": [
    "first_name = input(\"Enter your first name \");\n",
    "last_name = input(\"Enter your last name \");\n",
    "print(last_name + \" \" + first_name);"
   ]
  },
  {
   "cell_type": "code",
   "execution_count": null,
   "id": "b32a8bc0",
   "metadata": {},
   "outputs": [],
   "source": []
  }
 ],
 "metadata": {
  "kernelspec": {
   "display_name": "Python 3",
   "language": "python",
   "name": "python3"
  },
  "language_info": {
   "codemirror_mode": {
    "name": "ipython",
    "version": 3
   },
   "file_extension": ".py",
   "mimetype": "text/x-python",
   "name": "python",
   "nbconvert_exporter": "python",
   "pygments_lexer": "ipython3",
   "version": "3.8.8"
  }
 },
 "nbformat": 4,
 "nbformat_minor": 5
}
